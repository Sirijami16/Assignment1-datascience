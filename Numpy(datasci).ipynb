{
 "cells": [
  {
   "cell_type": "code",
   "execution_count": 1,
   "id": "955d13ee",
   "metadata": {},
   "outputs": [
    {
     "name": "stdout",
     "output_type": "stream",
     "text": [
      "15\n",
      "5\n",
      "50\n",
      "100000\n"
     ]
    }
   ],
   "source": [
    "import numpy as np\n",
    "import pandas as pd\n",
    "a=10\n",
    "b=5\n",
    "print(a+b)\n",
    "print(a-b)\n",
    "print(a*b)\n",
    "print(a**b)"
   ]
  },
  {
   "cell_type": "code",
   "execution_count": 2,
   "id": "ca0e7f6f",
   "metadata": {},
   "outputs": [
    {
     "name": "stdout",
     "output_type": "stream",
     "text": [
      "[ 6 11 15]\n"
     ]
    }
   ],
   "source": [
    "a=np.array([2,6,7])\n",
    "c=np.array([4,5,8])\n",
    "print(a+c)"
   ]
  },
  {
   "cell_type": "code",
   "execution_count": 3,
   "id": "e2a8bb80",
   "metadata": {},
   "outputs": [
    {
     "name": "stdout",
     "output_type": "stream",
     "text": [
      "[-2  1 -1]\n"
     ]
    }
   ],
   "source": [
    "a=np.array([2,6,7])\n",
    "c=np.array([4,5,8])\n",
    "print(a-c)"
   ]
  },
  {
   "cell_type": "code",
   "execution_count": 4,
   "id": "51b70416",
   "metadata": {},
   "outputs": [
    {
     "name": "stdout",
     "output_type": "stream",
     "text": [
      "[ 8 30 56]\n"
     ]
    }
   ],
   "source": [
    "a=np.array([2,6,7])\n",
    "c=np.array([4,5,8])\n",
    "print(a*c)"
   ]
  },
  {
   "cell_type": "code",
   "execution_count": 5,
   "id": "536a578a",
   "metadata": {},
   "outputs": [
    {
     "name": "stdout",
     "output_type": "stream",
     "text": [
      "[0.5   1.2   0.875]\n"
     ]
    }
   ],
   "source": [
    "a=np.array([2,6,7])\n",
    "c=np.array([4,5,8])\n",
    "print(a/c)"
   ]
  },
  {
   "cell_type": "code",
   "execution_count": 6,
   "id": "f4474c8b",
   "metadata": {},
   "outputs": [
    {
     "name": "stdout",
     "output_type": "stream",
     "text": [
      "[2.         0.83333333 1.14285714]\n"
     ]
    }
   ],
   "source": [
    "a=np.array([2,6,7])\n",
    "c=np.array([4,5,8])\n",
    "print(c/a)"
   ]
  },
  {
   "cell_type": "code",
   "execution_count": 7,
   "id": "8e276c77",
   "metadata": {},
   "outputs": [
    {
     "name": "stdout",
     "output_type": "stream",
     "text": [
      "[2 1 7]\n"
     ]
    }
   ],
   "source": [
    "a=np.array([2,6,7])\n",
    "c=np.array([4,5,8])\n",
    "print(a%c)"
   ]
  },
  {
   "cell_type": "code",
   "execution_count": 8,
   "id": "30c7a816",
   "metadata": {},
   "outputs": [
    {
     "name": "stdout",
     "output_type": "stream",
     "text": [
      "[[ 1 23 78]\n",
      " [98 60 75]\n",
      " [79 25 48]]\n",
      "1\n",
      "98\n"
     ]
    }
   ],
   "source": [
    "arr=np.array([[1,23,78],[98,60,75],[79,25,48]])\n",
    "print(arr)\n",
    "print(np.amin(arr))\n",
    "print(np.amax(arr))"
   ]
  },
  {
   "cell_type": "code",
   "execution_count": 9,
   "id": "05822771",
   "metadata": {},
   "outputs": [
    {
     "name": "stdout",
     "output_type": "stream",
     "text": [
      "[2 6 7]\n",
      "5.0\n"
     ]
    }
   ],
   "source": [
    "import numpy as np\n",
    "a=np.array([2,6,7])\n",
    "print(a)\n",
    "print(np.mean(a))"
   ]
  },
  {
   "cell_type": "code",
   "execution_count": 10,
   "id": "ade8901a",
   "metadata": {},
   "outputs": [
    {
     "name": "stdout",
     "output_type": "stream",
     "text": [
      "[4 5 8]\n",
      "5.0\n"
     ]
    }
   ],
   "source": [
    "import numpy as np\n",
    "a=np.array([4,5,8])\n",
    "print(a)\n",
    "print(np.median(a))"
   ]
  },
  {
   "cell_type": "code",
   "execution_count": 11,
   "id": "9f1e9a5f",
   "metadata": {},
   "outputs": [
    {
     "name": "stdout",
     "output_type": "stream",
     "text": [
      "[12 20 15]\n",
      "3.2998316455372216\n",
      "\n",
      "\n",
      "10.888888888888888\n"
     ]
    }
   ],
   "source": [
    "import numpy as np\n",
    "a=np.array([12,20,15])\n",
    "print(a)\n",
    "print(np.std(a))\n",
    "print(\"\\n\")\n",
    "print(np.var(a))"
   ]
  },
  {
   "cell_type": "code",
   "execution_count": null,
   "id": "3e3df647",
   "metadata": {},
   "outputs": [],
   "source": []
  }
 ],
 "metadata": {
  "kernelspec": {
   "display_name": "Python 3 (ipykernel)",
   "language": "python",
   "name": "python3"
  },
  "language_info": {
   "codemirror_mode": {
    "name": "ipython",
    "version": 3
   },
   "file_extension": ".py",
   "mimetype": "text/x-python",
   "name": "python",
   "nbconvert_exporter": "python",
   "pygments_lexer": "ipython3",
   "version": "3.9.7"
  }
 },
 "nbformat": 4,
 "nbformat_minor": 5
}
